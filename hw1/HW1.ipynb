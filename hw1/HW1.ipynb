{
 "cells": [
  {
   "cell_type": "code",
   "execution_count": 75,
   "metadata": {},
   "outputs": [],
   "source": [
    "import pickle\n",
    "import subprocess\n",
    "import tensorflow as tf\n",
    "import gym\n",
    "from sklearn.model_selection import train_test_split, ParameterGrid\n",
    "import numpy as np\n",
    "from tqdm import tqdm_notebook, tqdm, trange\n",
    "from collections import defaultdict\n",
    "import load_policy"
   ]
  },
  {
   "cell_type": "code",
   "execution_count": 26,
   "metadata": {},
   "outputs": [],
   "source": [
    "from tensorflow.keras.models import Sequential\n",
    "from tensorflow.keras.layers import Input, InputLayer\n",
    "from tensorflow.keras.layers import Dense, Flatten, BatchNormalization\n",
    "from tensorflow.keras.optimizers import Adam"
   ]
  },
  {
   "cell_type": "code",
   "execution_count": 19,
   "metadata": {},
   "outputs": [],
   "source": [
    "experts = [\"Ant-v2\", \"HalfCheetah-v2\", \"Hopper-v2\", \"Humanoid-v2\", \"Reacher-v2\", \"Walker2d-v2\"]"
   ]
  },
  {
   "cell_type": "markdown",
   "metadata": {},
   "source": [
    "### Generating expert data :"
   ]
  },
  {
   "cell_type": "code",
   "execution_count": 20,
   "metadata": {},
   "outputs": [],
   "source": [
    "def runExpert(expert, rollouts) :\n",
    "    process = subprocess.Popen(\"python run_expert.py experts/{0}.pkl {1} --num_rollouts {2}\".format(expert, expert, rollouts), shell = True)\n",
    "    process.wait()"
   ]
  },
  {
   "cell_type": "code",
   "execution_count": 21,
   "metadata": {},
   "outputs": [],
   "source": [
    "rollouts = 20\n",
    "for expert in experts :\n",
    "    runExpert(expert, rollouts)"
   ]
  },
  {
   "cell_type": "markdown",
   "metadata": {},
   "source": [
    "### Getting observations, actions from expert data :"
   ]
  },
  {
   "cell_type": "code",
   "execution_count": 22,
   "metadata": {},
   "outputs": [],
   "source": [
    "def getExpertData(expert) :\n",
    "    with open(\"expert_data/{}.pkl\".format(expert), \"rb\") as f :\n",
    "        data = pickle.load(f)\n",
    "    return(data)"
   ]
  },
  {
   "cell_type": "markdown",
   "metadata": {},
   "source": [
    "### Observations and Actions :\n",
    "Observation is an array of shape (m, dim_obs) where m are the number of observations and dim_obs is the dimension of the observation array\n",
    "Action is an array of shape (m, 1, dim_act)\n",
    "\n",
    "For the Ant-v2 case, dim_obs = 111 and dim_act = 8"
   ]
  },
  {
   "cell_type": "code",
   "execution_count": 23,
   "metadata": {},
   "outputs": [],
   "source": [
    "data = getExpertData(\"Ant-v2\")"
   ]
  },
  {
   "cell_type": "code",
   "execution_count": 24,
   "metadata": {},
   "outputs": [
    {
     "data": {
      "text/plain": [
       "(20000, 111)"
      ]
     },
     "execution_count": 24,
     "metadata": {},
     "output_type": "execute_result"
    }
   ],
   "source": [
    "data[\"observations\"].shape"
   ]
  },
  {
   "cell_type": "code",
   "execution_count": 25,
   "metadata": {},
   "outputs": [
    {
     "data": {
      "text/plain": [
       "(20000, 1, 8)"
      ]
     },
     "execution_count": 25,
     "metadata": {},
     "output_type": "execute_result"
    }
   ],
   "source": [
    "data[\"actions\"].shape"
   ]
  },
  {
   "cell_type": "markdown",
   "metadata": {},
   "source": [
    "### Behavior Cloning :"
   ]
  },
  {
   "cell_type": "code",
   "execution_count": 28,
   "metadata": {},
   "outputs": [],
   "source": [
    "def prepareData(expert) :\n",
    "    expert_data = getExpertData(expert)\n",
    "    observations, actions, returns = expert_data.values()\n",
    "    #Reshaping action to 2d\n",
    "    actions = actions.reshape((actions.shape[0], actions.shape[-1]))\n",
    "    #Train-validation split\n",
    "    X_train, X_test, y_train, y_test = train_test_split(observations, actions, test_size = 0.1, random_state = 1)\n",
    "    \n",
    "    return(X_train, X_test, y_train, y_test)"
   ]
  },
  {
   "cell_type": "code",
   "execution_count": 32,
   "metadata": {},
   "outputs": [],
   "source": [
    "def behaviorCloning(observations, actions, lr = 0.001, epochs = 10, batch_size = 100) :\n",
    "    #Getting shapes which are used in input and output layers of the network\n",
    "    obs_shape = observations.shape\n",
    "    act_shape = actions.shape\n",
    "    \n",
    "    model = Sequential()\n",
    "    model.add(InputLayer(input_shape = obs_shape[1:]))\n",
    "    model.add(BatchNormalization())\n",
    "    model.add(Dense(units = 32, activation = \"relu\"))\n",
    "    model.add(Dense(units = 32, activation = \"relu\"))\n",
    "    model.add(Dense(units = act_shape[-1]))\n",
    "    \n",
    "    optimizer = Adam(lr)\n",
    "    \n",
    "    model.compile(optimizer = optimizer, loss = \"mse\", metrics = [\"mse\"])\n",
    "    \n",
    "    model.fit(x = observations, y = actions, epochs = epochs, batch_size = batch_size, verbose = 0)\n",
    "\n",
    "    return(model)"
   ]
  },
  {
   "cell_type": "markdown",
   "metadata": {},
   "source": [
    "### Hyperparameter tuning :"
   ]
  },
  {
   "cell_type": "code",
   "execution_count": 49,
   "metadata": {},
   "outputs": [
    {
     "data": {
      "text/plain": [
       "'\\nparams = {\"lr\" : [0.001, 0.01, 0.1], \"epochs\" : [10, 20, 50]}\\nbatch_size = 100\\nvalidation_results = defaultdict(list)\\nfor expert in experts :\\n    print(\"Expert : {}\".format(expert))\\n    X_train, X_test, y_train, y_test = prepareData(expert)\\n    for parameters in tqdm_notebook(ParameterGrid(params), desc = \"Parameter Grid\") :\\n        lr, epochs = parameters[\"lr\"], parameters[\"epochs\"]\\n        model = behaviorCloning(X_train, y_train, lr, epochs, batch_size)\\n        res = model.evaluate(X_test, y_test, verbose = 0)\\n        validation_results[expert].append((lr, epochs, batch_size, res[0]))\\n'"
      ]
     },
     "execution_count": 49,
     "metadata": {},
     "output_type": "execute_result"
    }
   ],
   "source": [
    "\"\"\"\n",
    "params = {\"lr\" : [0.001, 0.01, 0.1], \"epochs\" : [10, 20, 50]}\n",
    "batch_size = 100\n",
    "validation_results = defaultdict(list)\n",
    "for expert in experts :\n",
    "    print(\"Expert : {}\".format(expert))\n",
    "    X_train, X_test, y_train, y_test = prepareData(expert)\n",
    "    for parameters in tqdm_notebook(ParameterGrid(params), desc = \"Parameter Grid\") :\n",
    "        lr, epochs = parameters[\"lr\"], parameters[\"epochs\"]\n",
    "        model = behaviorCloning(X_train, y_train, lr, epochs, batch_size)\n",
    "        res = model.evaluate(X_test, y_test, verbose = 0)\n",
    "        validation_results[expert].append((lr, epochs, batch_size, res[0]))\n",
    "\"\"\""
   ]
  },
  {
   "cell_type": "code",
   "execution_count": 50,
   "metadata": {},
   "outputs": [],
   "source": [
    "def getReturns(expert, model, rollouts) :\n",
    "    model_returns = []\n",
    "    env = gym.make(expert)\n",
    "    max_steps = env.spec.timestep_limit\n",
    "    for i in range(rollouts):\n",
    "        obs = env.reset()\n",
    "        done = False\n",
    "        totalr = 0.\n",
    "        steps = 0\n",
    "        while not done:\n",
    "            obs = obs.reshape((1, obs.shape[0]))\n",
    "            action = model.predict(obs)\n",
    "            action = action.reshape((action.shape[0], 1, action.shape[1]))\n",
    "            obs, r, done, _ = env.step(action)\n",
    "            totalr += r\n",
    "            steps += 1\n",
    "            if steps >= max_steps:\n",
    "                    break\n",
    "        model_returns.append(totalr)\n",
    "    return(model_returns)"
   ]
  },
  {
   "cell_type": "code",
   "execution_count": 51,
   "metadata": {},
   "outputs": [],
   "source": [
    "import pandas as pd"
   ]
  },
  {
   "cell_type": "code",
   "execution_count": 63,
   "metadata": {},
   "outputs": [
    {
     "name": "stdout",
     "output_type": "stream",
     "text": [
      "Expert : Walker2d-v2"
     ]
    }
   ],
   "source": [
    "results = []\n",
    "for expert in experts :\n",
    "    print(\"\\rExpert : {}\".format(expert), end = \"\")\n",
    "    expert_data = getExpertData(expert)\n",
    "    observations, actions, expert_returns = expert_data[\"observations\"], expert_data[\"actions\"], expert_data[\"returns\"]\n",
    "    actions = np.squeeze(actions)\n",
    "    model = behaviorCloning(observations, actions, lr = 0.001, epochs = 20, batch_size = 100)\n",
    "    model_returns = getReturns(expert, model, 20)\n",
    "    results.append([expert, np.mean(expert_returns), np.mean(model_returns), np.std(expert_returns), np.std(model_returns)])"
   ]
  },
  {
   "cell_type": "code",
   "execution_count": 64,
   "metadata": {},
   "outputs": [
    {
     "data": {
      "text/html": [
       "<div>\n",
       "<style scoped>\n",
       "    .dataframe tbody tr th:only-of-type {\n",
       "        vertical-align: middle;\n",
       "    }\n",
       "\n",
       "    .dataframe tbody tr th {\n",
       "        vertical-align: top;\n",
       "    }\n",
       "\n",
       "    .dataframe thead th {\n",
       "        text-align: right;\n",
       "    }\n",
       "</style>\n",
       "<table border=\"1\" class=\"dataframe\">\n",
       "  <thead>\n",
       "    <tr style=\"text-align: right;\">\n",
       "      <th></th>\n",
       "      <th>Expert</th>\n",
       "      <th>Mean Expert Returns</th>\n",
       "      <th>Mean Model Returns</th>\n",
       "      <th>Std Expert Returns</th>\n",
       "      <th>Std Model Returns</th>\n",
       "    </tr>\n",
       "  </thead>\n",
       "  <tbody>\n",
       "    <tr>\n",
       "      <th>0</th>\n",
       "      <td>Ant-v2</td>\n",
       "      <td>4643.365419</td>\n",
       "      <td>4715.059918</td>\n",
       "      <td>721.400246</td>\n",
       "      <td>100.725479</td>\n",
       "    </tr>\n",
       "    <tr>\n",
       "      <th>1</th>\n",
       "      <td>HalfCheetah-v2</td>\n",
       "      <td>4148.390453</td>\n",
       "      <td>3888.772914</td>\n",
       "      <td>93.052040</td>\n",
       "      <td>81.794357</td>\n",
       "    </tr>\n",
       "    <tr>\n",
       "      <th>2</th>\n",
       "      <td>Hopper-v2</td>\n",
       "      <td>3777.427432</td>\n",
       "      <td>634.488760</td>\n",
       "      <td>3.983109</td>\n",
       "      <td>6.815471</td>\n",
       "    </tr>\n",
       "    <tr>\n",
       "      <th>3</th>\n",
       "      <td>Humanoid-v2</td>\n",
       "      <td>10414.474915</td>\n",
       "      <td>1280.554422</td>\n",
       "      <td>49.053790</td>\n",
       "      <td>946.155600</td>\n",
       "    </tr>\n",
       "    <tr>\n",
       "      <th>4</th>\n",
       "      <td>Reacher-v2</td>\n",
       "      <td>-3.484670</td>\n",
       "      <td>-12.215830</td>\n",
       "      <td>1.929408</td>\n",
       "      <td>2.441112</td>\n",
       "    </tr>\n",
       "    <tr>\n",
       "      <th>5</th>\n",
       "      <td>Walker2d-v2</td>\n",
       "      <td>5515.393810</td>\n",
       "      <td>771.369222</td>\n",
       "      <td>57.088761</td>\n",
       "      <td>458.843686</td>\n",
       "    </tr>\n",
       "  </tbody>\n",
       "</table>\n",
       "</div>"
      ],
      "text/plain": [
       "           Expert  Mean Expert Returns  Mean Model Returns  \\\n",
       "0          Ant-v2          4643.365419         4715.059918   \n",
       "1  HalfCheetah-v2          4148.390453         3888.772914   \n",
       "2       Hopper-v2          3777.427432          634.488760   \n",
       "3     Humanoid-v2         10414.474915         1280.554422   \n",
       "4      Reacher-v2            -3.484670          -12.215830   \n",
       "5     Walker2d-v2          5515.393810          771.369222   \n",
       "\n",
       "   Std Expert Returns  Std Model Returns  \n",
       "0          721.400246         100.725479  \n",
       "1           93.052040          81.794357  \n",
       "2            3.983109           6.815471  \n",
       "3           49.053790         946.155600  \n",
       "4            1.929408           2.441112  \n",
       "5           57.088761         458.843686  "
      ]
     },
     "execution_count": 64,
     "metadata": {},
     "output_type": "execute_result"
    }
   ],
   "source": [
    "df = pd.DataFrame(results, columns = [\"Expert\", \"Mean Expert Returns\", \"Mean Model Returns\", \"Std Expert Returns\", \"Std Model Returns\"])\n",
    "df"
   ]
  },
  {
   "cell_type": "code",
   "execution_count": 65,
   "metadata": {},
   "outputs": [],
   "source": [
    "df.to_csv(\"expert_data/behaviorcloning_results.csv\")"
   ]
  },
  {
   "cell_type": "markdown",
   "metadata": {},
   "source": [
    "### DAgger Algorithm :"
   ]
  },
  {
   "cell_type": "code",
   "execution_count": 184,
   "metadata": {},
   "outputs": [],
   "source": [
    "def DAgger(expert, observations, actions, parameters, iterations) :\n",
    "    obs_dataset = []\n",
    "    act_dataset = []\n",
    "    rewards = []\n",
    "    lr, epochs, batch_size = parameters[\"lr\"], parameters[\"epochs\"], parameters[\"batch_size\"]\n",
    "    train_observations, train_actions = observations, actions\n",
    "    for i in tqdm_notebook(range(iterations), desc = \"DAgger Iteration\") :\n",
    "        #Train model on training set D\n",
    "        model = behaviorCloning(train_observations, train_actions, lr, epochs, batch_size)\n",
    "        env = gym.make(expert)\n",
    "        max_steps = env.spec.timestep_limit\n",
    "        \n",
    "        #Using trained model to get mean rewards\n",
    "        rollouts = 20\n",
    "        returns = []\n",
    "        for j in range(rollouts):\n",
    "            obs = env.reset()\n",
    "            done = False\n",
    "            totalr = 0.\n",
    "            steps = 0\n",
    "            while not done:\n",
    "                obs = obs.reshape((1, obs.shape[0]))\n",
    "                model_action = model.predict(obs)\n",
    "                model_action = model_action.reshape((model_action.shape[0], 1, model_action.shape[1]))\n",
    "                obs, r, done, _ = env.step(model_action)\n",
    "                totalr += r\n",
    "                steps += 1\n",
    "                if steps >= max_steps:\n",
    "                    break\n",
    "            returns.append(totalr)\n",
    "        rewards.append(returns)\n",
    "        \n",
    "        \n",
    "        #Start with initial observation and run model to get [o1, o2, o3]\n",
    "        new_observations = []\n",
    "        obs = env.reset()\n",
    "        done = False\n",
    "        steps = 0\n",
    "        while not done:\n",
    "            new_observations.append(obs)\n",
    "            obs = obs.reshape((1, obs.shape[0]))\n",
    "            model_action = model.predict(obs)\n",
    "            model_action = model_action.reshape((model_action.shape[0], 1, model_action.shape[1]))\n",
    "            obs, r, done, _ = env.step(model_action)\n",
    "            steps += 1\n",
    "            if steps >= max_steps:\n",
    "                break\n",
    "                    \n",
    "        #Keeping track of rewards\n",
    "        #rewards.append(totalr)\n",
    "        \n",
    "        #Use these observations as input to expert and get expert actions\n",
    "        with tf.Session() :\n",
    "            env = gym.make(expert)\n",
    "            policy_fn = load_policy.load_policy(\"experts/{}.pkl\".format(expert))\n",
    "            new_actions = []\n",
    "\n",
    "            for nobs in new_observations :\n",
    "                expert_action = policy_fn(nobs[None,:])\n",
    "                new_actions.append(expert_action)\n",
    "            \n",
    "        #Get labeled set D_exp = [(o1, a1), (o2, a2), ...]\n",
    "        #Aggregate this to training set (D = D + D_exp) and retrain model\n",
    "        obs_dataset.append(train_observations)\n",
    "        act_dataset.append(train_actions)\n",
    "        train_observations = np.concatenate((train_observations, np.array(new_observations)))\n",
    "        train_actions = np.concatenate((train_actions, np.squeeze(np.array(new_actions))))\n",
    "        \n",
    "    return(obs_dataset, act_dataset, rewards)"
   ]
  },
  {
   "cell_type": "markdown",
   "metadata": {},
   "source": [
    "#### Running DAgger for Hopper-v2"
   ]
  },
  {
   "cell_type": "code",
   "execution_count": 185,
   "metadata": {},
   "outputs": [
    {
     "data": {
      "application/vnd.jupyter.widget-view+json": {
       "model_id": "9e0e5e0d9e9b4c878b13a00b7f9b211f",
       "version_major": 2,
       "version_minor": 0
      },
      "text/plain": [
       "HBox(children=(IntProgress(value=0, description='DAgger Iteration', max=20, style=ProgressStyle(description_wi…"
      ]
     },
     "metadata": {},
     "output_type": "display_data"
    },
    {
     "name": "stdout",
     "output_type": "stream",
     "text": [
      "obs (1, 11) (1, 11)\n",
      "obs (1, 11) (1, 11)\n",
      "obs (1, 11) (1, 11)\n",
      "obs (1, 11) (1, 11)\n",
      "obs (1, 11) (1, 11)\n",
      "obs (1, 11) (1, 11)\n",
      "obs (1, 11) (1, 11)\n",
      "obs (1, 11) (1, 11)\n",
      "obs (1, 11) (1, 11)\n",
      "obs (1, 11) (1, 11)\n",
      "obs (1, 11) (1, 11)\n",
      "obs (1, 11) (1, 11)\n",
      "obs (1, 11) (1, 11)\n",
      "obs (1, 11) (1, 11)\n",
      "obs (1, 11) (1, 11)\n",
      "obs (1, 11) (1, 11)\n",
      "obs (1, 11) (1, 11)\n",
      "obs (1, 11) (1, 11)\n",
      "obs (1, 11) (1, 11)\n",
      "obs (1, 11) (1, 11)\n"
     ]
    }
   ],
   "source": [
    "expert = \"Hopper-v2\"\n",
    "expert_data = getExpertData(expert)\n",
    "observations, actions, expert_returns = expert_data[\"observations\"], expert_data[\"actions\"], expert_data[\"returns\"]\n",
    "actions = np.squeeze(actions)\n",
    "obs_dataset, act_dataset, rewards = DAgger(expert, observations, actions, {\"lr\" : 0.001, \"epochs\" : 20, \"batch_size\" : 100}, 20)"
   ]
  },
  {
   "cell_type": "code",
   "execution_count": 187,
   "metadata": {},
   "outputs": [],
   "source": [
    "from scipy.stats import sem"
   ]
  },
  {
   "cell_type": "code",
   "execution_count": 223,
   "metadata": {},
   "outputs": [],
   "source": [
    "plt.rc('font', family = \"serif\")\n",
    "plt.rc('xtick', labelsize='x-small')\n",
    "plt.rc('ytick', labelsize='x-small')"
   ]
  },
  {
   "cell_type": "code",
   "execution_count": 253,
   "metadata": {},
   "outputs": [
    {
     "data": {
      "image/png": "[encoded data removed]",
      "text/plain": [
       "<Figure size 288x216 with 1 Axes>"
      ]
     },
     "metadata": {},
     "output_type": "display_data"
    }
   ],
   "source": [
    "mean_rewards = [np.mean(rollout_rewards) for rollout_rewards in rewards]\n",
    "stderr_rewards = [sem(rollout_rewards) for rollout_rewards in rewards]\n",
    "expert_performance = df[df[\"Expert\"] == \"Hopper-v2\"][\"Mean Expert Returns\"].values[0]\n",
    "bc_performance = df[df[\"Expert\"] == \"Hopper-v2\"][\"Mean Model Returns\"].values[0]\n",
    "x = np.arange(1, 21, 1)\n",
    "\n",
    "\n",
    "fig, ax = plt.subplots(figsize = (4, 3))\n",
    "ax.errorbar(x, mean_rewards, fmt = \"o\", yerr = stderr_rewards, ecolor = \"black\", mfc = \"None\", markersize = 4, mec = \"blue\", capsize = 2, alpha = 0.7, mew = 0.7, elinewidth = 0.7)\n",
    "ax.plot([1, 21], [expert_performance, expert_performance], linestyle = \"--\", color = \"green\", linewidth = 0.7)\n",
    "ax.plot([1, 21], [bc_performance, bc_performance], linestyle = \"--\", color = \"red\", linewidth = 0.7)\n",
    "ax.set_xlabel(\"Dagger Iterations\")\n",
    "ax.set_ylabel(\"Mean Reward\")\n",
    "ax.set_xticks(np.arange(0, 23, 2))\n",
    "fig.savefig(\"Hopper-v2-dagger.png\", bbox_inches = \"tight\", dpi = 300)\n",
    "plt.show()"
   ]
  },
  {
   "cell_type": "code",
   "execution_count": null,
   "metadata": {},
   "outputs": [],
   "source": []
  }
 ],
 "metadata": {
  "kernelspec": {
   "display_name": "Python 3",
   "language": "python",
   "name": "python3"
  },
  "language_info": {
   "codemirror_mode": {
    "name": "ipython",
    "version": 3
   },
   "file_extension": ".py",
   "mimetype": "text/x-python",
   "name": "python",
   "nbconvert_exporter": "python",
   "pygments_lexer": "ipython3",
   "version": "3.6.7"
  }
 },
 "nbformat": 4,
 "nbformat_minor": 2
}
